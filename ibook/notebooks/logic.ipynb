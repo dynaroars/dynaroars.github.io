{
 "cells": [
  {
   "cell_type": "markdown",
   "id": "08548c5c-2a03-4bb2-b58c-70f6b139583b",
   "metadata": {},
   "source": [
    "# Propositional Logic\n",
    "\n",
    "Gengle introduction to terminologies in *Propositional Logic*.  Code is demonstrated using the *Z3* SMT solver."
   ]
  },
  {
   "cell_type": "markdown",
   "id": "7e99be44-76e0-4ec8-84b9-9bbc80d93873",
   "metadata": {},
   "source": [
    "\n",
    "## Basic Terminologies\n",
    "\n",
    "A _well-founded formula_ (wff) is defined inductively as follow:\n",
    "1. a variable is a wff\n",
    "2. if A, B are wffs, then `!A`, `A && B`, `A || B`, `A => B` are wffs\n",
    "\n",
    "\n"
   ]
  },
  {
   "cell_type": "code",
   "execution_count": 1,
   "id": "5c8069b1-daa3-433b-b4ff-12cc79a11172",
   "metadata": {},
   "outputs": [
    {
     "data": {
      "text/html": [
       "A &and; &not;B &and; &not;C &or; C &and; &not;A"
      ],
      "text/plain": [
       "Or(And(A, Not(B), Not(C)), And(C, Not(A)))"
      ]
     },
     "execution_count": 1,
     "metadata": {},
     "output_type": "execute_result"
    }
   ],
   "source": [
    "from z3 import Bool, Bools, And, Or, Not, Implies, Solver, sat, unsat\n",
    "import z3\n",
    "\n",
    "# (Boolean) Variables\n",
    "P = Bool('P')   # individual def\n",
    "Q = Bool('Q')\n",
    "A,B,C,D = Bools('A B C D')   # multiple defs\n",
    "\n",
    "# Logical connectors\n",
    "Not(A)        # !A, negation\n",
    "And(A,B)      # A and B, A && B, conjunction\n",
    "Or(A,B)       # A or B,  A || B,  disjunction\n",
    "Implies(A,B)  # A implies B, A => B, implication\n",
    "\n",
    "# Literal: a variable or its negation\n",
    "P\n",
    "Not(Q)\n",
    "\n",
    "# wff \n",
    "A\n",
    "And(Implies(A,B), Or(A,B))\n",
    "\n",
    "# CNF (Conjunctive Normal Form): a wff has a CNF form if it is a conjunction of one or more conjuncts, each of which is a disjunction of one or more literals\n",
    "A\n",
    "Or(A,B)\n",
    "And(Or(A,B), Or(Not(A),C), Or(B,C,Not(D)))\n",
    "\n",
    "# DNF (Disjunctive Normal Form)\n",
    "A\n",
    "And(A, B)\n",
    "Or(And(A, B),C)\n",
    "Or(And(A, Not(B), Not(C)), And(C, Not(A)))"
   ]
  },
  {
   "cell_type": "markdown",
   "id": "c4ccb2ec-f267-45af-b42a-02bd34c52496",
   "metadata": {},
   "source": [
    "## Satisfiability, Validity, Falsification\n",
    "\n",
    "- a wff `f` is _satisfiabile_: `f` evaluates to `True` under *some* value assignment to `f`'s variables\n",
    "- a wff `f` is _valid_: if `f` evaluates to to `True` under *all* value assignments to `f`'s variables\n",
    "- a wff `f` is _falsify_: if `f` evaluates to to `False` under *all* value assignments to `f`'s variables\n",
    "  - equivalently: if `f` is not satisfiable under *any* value assignments\n"
   ]
  },
  {
   "cell_type": "code",
   "execution_count": 5,
   "id": "b65537df-ac8b-4735-b986-f631e6913a19",
   "metadata": {},
   "outputs": [],
   "source": [
    "solver = Solver()\n",
    "\n",
    "def is_satisfiable(f):\n",
    "    return solver.check(f) == sat\n",
    "\n",
    "def is_tautology(f):\n",
    "    \"\"\"\n",
    "    check if f is a tautology (valid)\n",
    "    \"\"\"\n",
    "    return solver.check(Not(f)) == unsat #if f is a tautology, then its negation is not satisfiable\n",
    "\n",
    "def is_contradiction(f):\n",
    "    return solver.check(f) == unsat #if f is a contradiction, then we can never satisfy it\n",
    "\n",
    "# Satisfiable: a wff is satisfiable if it is true for *some* assignment of truth values to its variables\n",
    "F = And(P,Q)\n",
    "assert(is_satisfiable(F))\n",
    "\n",
    "# Tautology : a wff is a tautology if it is true for *all* assignments of truth values to its variables, i.e., it is always satisfiable. Also, by def, a tautology is satisfiable.\n",
    "F = Or(P,Not(P))\n",
    "assert(is_tautology(F))\n",
    "\n",
    "F = Implies(P,P)\n",
    "assert(is_tautology(F))\n",
    "\n",
    "F = Implies(P, Or(P,Q))\n",
    "assert(is_tautology(F))\n",
    "\n",
    "# Contradiction: a wff is a contradiction if it is false for any assignments of truth values to its variables. By def, a contradiction is not satisfiable.\n",
    "F = And(P,Not(P))\n",
    "assert(is_contradiction(F))"
   ]
  },
  {
   "cell_type": "markdown",
   "id": "c83b2ec8-6fd0-4765-9bae-cdf1deafe1c1",
   "metadata": {},
   "source": [
    "## Equivalence and Implication"
   ]
  },
  {
   "cell_type": "code",
   "execution_count": 6,
   "id": "1e9576d0-65d6-42e1-ba7c-57181ca4de9e",
   "metadata": {},
   "outputs": [],
   "source": [
    "\n",
    "#equivalence   <=> , ==\n",
    "assert(is_tautology(A == A))\n",
    "assert(is_tautology(And(A,B) == And(B,A)))\n",
    "\n",
    "# implies: equal to or stronger\n",
    "# if a wff F' has more constraints than a wff F then F' is equal to or stronger than F\n",
    "F = Implies(And(A,B), A)  #A and B implies A\n",
    "assert(is_tautology(F))\n",
    "\n",
    "F = Implies(And(A,B), Or(A,B))  #A and B implies A or B\n",
    "assert(is_tautology(F))\n",
    "\n",
    "F = Implies(A, Or(A,B)) #A implies A or B\n",
    "assert(is_tautology(F))\n",
    "\n",
    "F = Implies(A, A) # A implies itself\n",
    "assert(is_tautology(F))\n",
    "\n",
    "# False is the strongest property, i.e., it implies everything else\n",
    "# True is the weakest property, i.e., it is implied by everything else"
   ]
  },
  {
   "cell_type": "markdown",
   "id": "727459e1-801c-4b6f-9660-8cd82916c7d8",
   "metadata": {},
   "source": [
    "## Syntax/Proof vs. Semantics/Meaning"
   ]
  },
  {
   "cell_type": "markdown",
   "id": "adf3c601-59ec-48cc-8c27-181fd57d04cf",
   "metadata": {},
   "source": [
    "## Soundness vs Completeness\n",
    "\n",
    "- `Soundness`: if `f` has a proof, then `f` is valid\n",
    "    - A reasoning system is `sound` if it only proves valid formulae.\n",
    "        - An extreme case: a system that proves nothing is sound (because if it proves something, it has to be valid. So it becomes conservative and does not prove anything---even valid formulae).\n",
    "    - A techniqe is `sound` if it says a program `S` is safe of an error `E`, then `E` is not reachable in `P` (for any input)\n",
    "        - An extreme case: a technique that always says an input program has an error (or does not satisfy a property) is sound. This techinque of course is useless (gives spurious warnings) but it is sound because it would never claim an unsafe program safe.\n",
    "    \n",
    "\n",
    "- `Completeness`: if `f` is valid, then `f` has a proof\n",
    "    - A reasoning system is `complete` if it proves all valid formulae.\n",
    "        - An extreme case: a system that proves everything is complete (because if something is valid, it has prove it. So it proves everything---including invalid formulae).\n",
    "\n"
   ]
  },
  {
   "cell_type": "markdown",
   "id": "f7d7e329-1767-4b92-ae89-0aef7aaa095e",
   "metadata": {},
   "source": [
    "# First-Order Logic"
   ]
  },
  {
   "cell_type": "markdown",
   "id": "2401e309-8b36-4a9a-bb2b-5841d9fbadaa",
   "metadata": {},
   "source": [
    "## Basic Terminologies"
   ]
  },
  {
   "cell_type": "code",
   "execution_count": 11,
   "id": "cecf5151-c29a-42d9-8f24-e1349b78a4bb",
   "metadata": {},
   "outputs": [
    {
     "data": {
      "text/html": [
       "x &lt; 3 &rArr; x &le; 10"
      ],
      "text/plain": [
       "Implies(x < 3, x <= 10)"
      ]
     },
     "execution_count": 11,
     "metadata": {},
     "output_type": "execute_result"
    }
   ],
   "source": [
    "from z3 import Ints\n",
    "import z3\n",
    "x, y = Ints(\"x y\")\n",
    "\n",
    "x  # a variable, also a term\n",
    "x + y # a term \n",
    "x*y + 3 # a term\n",
    "\n",
    "4 == 5 # a (wf) formula\n",
    "x <= 7 # a formula\n",
    "And(x + y == 5, y <= 3) # a formula\n",
    "Implies(x < 3, x <= 10) # a formula\n"
   ]
  },
  {
   "cell_type": "markdown",
   "id": "1250a486-475f-4304-bf37-b5a12c147e89",
   "metadata": {},
   "source": [
    "## Equivalence and Implications"
   ]
  },
  {
   "cell_type": "code",
   "execution_count": 7,
   "id": "dd65d96b-0e21-45b3-a61a-273718d68655",
   "metadata": {},
   "outputs": [],
   "source": [
    "\n",
    "assert(is_tautology(Implies(x < 3, x < 10)))  # x < 3 is stronger than x < 10"
   ]
  },
  {
   "cell_type": "markdown",
   "id": "aa4e1664-dad6-48db-9034-5f2c8806e4a1",
   "metadata": {},
   "source": [
    "# Satisfiability, Validity, and Falsification"
   ]
  },
  {
   "cell_type": "code",
   "execution_count": null,
   "id": "a37cf3c3-d07c-457c-94e2-7e56a3d39ec7",
   "metadata": {},
   "outputs": [],
   "source": []
  },
  {
   "cell_type": "markdown",
   "id": "8937e0fa-2a62-4722-b947-4d7dfea807f5",
   "metadata": {},
   "source": [
    "## Incompleteness Theorem\n",
    "\n",
    "A fun example demonstrating Godel's _incompleteness theorem_, which states that there are formula in first-order logic in which we cannot reason about.  \n",
    "\n",
    "Consider the formula `This formula is not valid`. Because this is a formula, it must be either true or false.  However, no matter what value our reasoning system gives, there will be a contradiction as shown below:\n",
    "\n",
    "1. If our reasoning system proves this formula, then it just proves a formula that is not valid.  Thus the system is unsound.\n",
    "2. If our reasoning system disproves this formula, then the formula is valid and thus the system just disproves a valid statement and therefore is incomplete. \n",
    "\n",
    "Thus, our reasoning system cannot handle for such a formula.\n"
   ]
  },
  {
   "cell_type": "markdown",
   "id": "0890f982-6257-45b3-81f3-c16076da06ad",
   "metadata": {},
   "source": [
    "## Resources"
   ]
  }
 ],
 "metadata": {
  "kernelspec": {
   "display_name": "Python 3 (ipykernel)",
   "language": "python",
   "name": "python3"
  },
  "language_info": {
   "codemirror_mode": {
    "name": "ipython",
    "version": 3
   },
   "file_extension": ".py",
   "mimetype": "text/x-python",
   "name": "python",
   "nbconvert_exporter": "python",
   "pygments_lexer": "ipython3",
   "version": "3.9.13"
  },
  "name": "logic.ipynb",
  "vscode": {
   "interpreter": {
    "hash": "9978a0b2ce432d2f37fe6d8a9c2166ba494d5e9d3cfba1d03e8c740cc2ab3f44"
   }
  }
 },
 "nbformat": 4,
 "nbformat_minor": 2
}
