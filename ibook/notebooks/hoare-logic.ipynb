
{
 "cells": [
  {
   "cell_type": "markdown",
   "id": "ee38aa8d-45f0-4afb-a119-456d819bb4c4",
   "metadata": {
    "ein.tags": "worksheet-0",
    "slideshow": {
     "slide_type": "slide"
    }
   },
   "source": [
    "# Hoare Logic\n",
    "\n",
    "Method by `Tony Hoare` to verify that an imperative program is correct with respect to a given specification, i.e., reasoning about program correctness using _pre_ and _post_ conditions.  "
   ]
  },
  {
   "cell_type": "markdown",
   "id": "7c6265d0-b9d3-44d4-914b-1062592a1bab",
   "metadata": {},
   "source": [
    "## Summary\n",
    "\n",
    "-   **Goal**: to prove that a program `S` is correct with respect to a\n",
    "    given precondition `P` and postcondition `Q`.\n",
    "-   **Method**: proving Hoare tripple\n",
    "    -   Computing **weakest precondition** of `S` with respect to `Q`,\n",
    "        i.e., `wp(S, Q)`\n",
    "    -   If for every loop in `S`, need to provide a **loop invariant**\n",
    "    -   Form **verification condition** (**vc**): `P` `\\implies`\n",
    "        `wp(S, Q)`\n",
    "        -   If this vc is true, then the Hoare tripple is valid, i.e.,\n",
    "            `S` is correct wrt to `P` and `Q`\n",
    "        -   Else, Hoare tripple is invalid but we cannot conclude that\n",
    "            `S` is incorrect wrt to `P` and `Q` (it could be that we\n",
    "            picked a weak loop invariant)\n"
   ]
  },
  {
   "cell_type": "markdown",
   "id": "b48b819a-0edf-485f-bf8d-c75815b3d952",
   "metadata": {
    "ein.tags": "worksheet-0",
    "slideshow": {
     "slide_type": "-"
    }
   },
   "source": [
    "## Hoare Tripple\n",
    "\n",
    "- Hoare Tripple  {`P`} `S` {`Q`}:\n",
    "    - `S`: a program (a list of statements)\n",
    "    - `P`: precondition (a formula representing the _precondition_ that hold before the execution of `S`)\n",
    "    - `Q`: postcondition (a formula representing the _postcondition_ that holds after the execution of `S`)\n",
    "    - Read:  assume `P` holds, if `S` executes successfully (i.e., terminates), then `Q` holds\n",
    "      - E.g., {`x = 5 & y > 2`} `z := x + y; z := z + 2` {`z > 9`}:   assume `x=5 and y > 2`, if `z:x +y; z := z + 2` runs successfully, then we have `z > 9`\n",
    "    - Meaning: if the tripple is _valid_, then `S` is correct wrt to the program specification (`P` and `Q`)\n",
    "    \n",
    "Notation: things inside {} are treated as formulae, so `P` and `Q` are formulae; `:=` is an assignment operator."
   ]
  },
  {
   "cell_type": "markdown",
   "id": "f381fc0d-05fe-4f67-8a82-85028f17a66d",
   "metadata": {},
   "source": [
    "### Partial and Total Correctness\n",
    "\n",
    "**Partial**: assume `P` holds, if `S` *successfully* executes, then `Q` holds\n",
    "-   Here, we **assume** the program terminates (`S` successfully executed)\n",
    "\n",
    "**Total**: assume `P` holds, `S` *successfully* executes and `Q` holds\n",
    "-   Here, we **require** `S` terminates\n",
    "-   Dififcult because have to ensure the termination of `S`\n",
    "\n",
    "We often just use partial correctness because total correctness requires us to also prove that `S` would terminate, which is a difficult problem (theoretically undecidable).\n"
   ]
  },
  {
   "cell_type": "markdown",
   "id": "3b4dd396-5436-477c-9878-bc8eba3d814f",
   "metadata": {},
   "source": [
    "### Examples of Hoare Tripples\n",
    "\n",
    "1. `{True} x := 5 {x = 5}`:  *valid* \n",
    "2. `{True} x := 5 {x=5 or x= 6 or x > 6}`:  *valid*\n",
    "3. `{True} x := 5 {x > 1}`:  *valid*\n",
    "4. `{True} x := 5 {x > 6}`:  *invalid* ,  because after executing `x:=5` , we cannot have `x > 6`\n",
    "\n",
    "*Strongest* postcondition: The postcondition in **1.** is strongest (i.e., `x=5` is more precise than `x > 1` or `(x=5 or x=6 or x > 6)`.  In general we want the strongest (most precise) postcondition.\n",
    "\n",
    "5. `{x = 1 & y = 2} z:= x/y  {z < 1}`:  *valid* \n",
    "6. `{x = 2 & y = 4} z:= x/y {z <1}`: *valid*\n",
    "7. `{0 < x < y & y != 0} z:= x/y {z <1}`: *valid*   \n",
    "\n",
    "*Weakest* precondition: the precondition in **7.** is weakest (i.e., it is the least constraint precondition).\n",
    "\n",
    "\n",
    "8. `{x < y} z:= x/y  {z < 1}`:  *Invalid*, counterexample input x=-1, y=0: after executing z:=x/y, we do not have z < 1 (we got a div-by-0 exception)\n",
    "9. `{x = 0} z:= x/y  {z < 1}`:   *Invalid*, counterexample input x=0, y=0 \n",
    "10. `{y != 0} z:= x/y  {z < 1}`:  *Invalid*, counterexample input x=2 , y=1 \n",
    "11. `{x < y & y != 0} z:= x/y {z <1}`: *Invalid*, counterexample input   x=-2,  y=-1\n"
   ]
  },
  {
   "cell_type": "markdown",
   "id": "c41c49e9-05d2-48c2-8988-030cf6294ecb",
   "metadata": {
    "ein.tags": "worksheet-0",
    "slideshow": {
     "slide_type": "-"
    }
   },
   "source": [
    "### In-class Questions\n",
    "\n",
    "1. `{False} x:=3 {x = 8}`:  *Valid*, because the `False` precondition, i.e., there is no way we can satisfies the precondition in the first place.\n",
    "   ```\n",
    "2. `{???} x:= y - 3 {x = 8}`\n",
    "    A: `{y = 11}`\n",
    "\n",
    "3. `{x = y} ??? {x = y}`\n",
    "   A: `skip`\n",
    "\n",
    "4. `{x < 0} while(x!=0) do x:=x - 1 {???}`\n",
    "   A: any formula, because the loop *does not* terminates so the Hoare tripple is valid no matter what postcondition we use.\n",
    "   Note: this tripple is valid for *partial* correctness, but is *not* valid for *total* correctness."
   ]
  },
  {
   "cell_type": "markdown",
   "id": "6ef2cd68-e549-4c73-8a1d-e54f7996e58c",
   "metadata": {
    "ein.tags": "worksheet-0",
    "slideshow": {
     "slide_type": "-"
    }
   },
   "source": [
    "# Program Verification using Hoare Logic\n",
    "\n",
    "We can automatically verify (partial) program correctness using Hoare Triples and weakest preconditions.\n",
    "To prove `{P} S {Q}` is valid, i.e., to prove the program `S` is correct wrt to the precondition `P` and postcondition `Q`, we check `P => wp(S, Q)`, where the function *wp* returns the weakest precondition allowing the program `S` to achieve the postcondition `Q`.\n",
    "  - Note: `=>` is the logical implication operator\n",
    "  \n",
    "Thus, to show the validity of `{P} S {Q}`, we show that `P` implies (`=>`) the *wp* of `S` wrt to `Q`. Hoare defines rules to obtain the WP of different kind of (imperative) program statements as shown below.\n"
   ]
  },
  {
   "cell_type": "markdown",
   "id": "6d75fbc1-1dc4-42fc-a57a-c5f2e9ec1a88",
   "metadata": {},
   "source": [
    "\n",
    "## WP's for statement `S` im imperative program\n",
    "\n",
    "| Statement Type | `S`                    | `wp(S, Q)`                                                       | Comment                                                                  |\n",
    "|----------------|:----------------------:|------------------------------------------------------------------|--------------------------------------------------------------------------|\n",
    "| Assignment     | `x := E`               | `Q[x/E]`                                                         | replace all occurences of the variable `x` in `Q` with the expresion `E` |\n",
    "| Skip           | `skip`                 | `Q`                                                              | skip statement: no effect                                                |\n",
    "| Sequential     | `S1;S2`                | `wp(S1, wp(S2,Q))`                                               |                                                                          |\n",
    "| Conditional    | `if b then S1 else S2` | `b => wp(S1,Q) & \\neg b \\Rightarrow wp(S2,Q)`                    |                                                                          |\n",
    "| Loop           | `while b do S`         | `(I) & (I & B \\Rightarrow wp(S,I)) & (I & \\neg B \\Rightarrow Q)` | `I` is a user supplied _loop invariant_                                  |\n"
   ]
  },
  {
   "cell_type": "markdown",
   "id": "0d78c1f5-2706-4d49-97cf-3c5d939ad00f",
   "metadata": {},
   "source": [
    "\n",
    "### S is an **ASSIGNMENT** statement\n",
    "\n",
    "    WP(x := E, Q) = Q[x/E]\n",
    "\n",
    "- That is, we substitute all occurences of `x` in **Q** with the expression `E`\n",
    "\n",
    "- Example\n",
    "\n",
    "```\n",
    "WP(x:=3, x + y = 10)\n",
    " = 3 + y = 10 \n",
    " = y = 7  # Thus, we have {y=7} x := 3 {x + y = 10}\n",
    "\n",
    "WP(x:=3, {x + y > 0) \n",
    "  = 3 + y > 0\n",
    "  = y > -3  # Thus, we have {y > -3}  x := 3 {x + y> 0}\n",
    "```"
   ]
  },
  {
   "cell_type": "markdown",
   "id": "ebab51fd-d422-4faa-90b5-4d64923aa96c",
   "metadata": {},
   "source": [
    "### S is a **LIST of Statements**\n",
    "\n",
    "    WP([S1; S2; S3 ...;], Q) = WP(S1, WP(S2;S3;.., Q))\n",
    "    WP([], Q) = Q\n",
    "\n",
    "-   Example\n",
    "\n",
    "        WP([x:=x+1; y:=y*x], y=2*z) \n",
    "            =   WP(x:=x+1, WP([y:=y*x], y=2*z))\n",
    "            =   WP(x:=x+1, y*x=2*z)\n",
    "                =   y*(x+1)=2*z # Thus, we have {yx+y=2*z}  x:=x+1; y:=y*x {y=2*z}\n"
   ]
  },
  {
   "cell_type": "markdown",
   "id": "32f58396-9602-4da6-9b6d-24807e7f05d4",
   "metadata": {},
   "source": [
    "### S is a **CONDITIONAL** statement\n",
    "\n",
    "    WP(if b then S1 else S2, Q)  =  (b=> WP(S1,Q))  &  (!b => WP(S2, Q))\n",
    "\n",
    "-   Example\n",
    "\n",
    "\n",
    "        WP(if x > 0 then y := x + 2  else y:= y + 1,  y > x) \n",
    "        = (x>0 => WP(y:=y+x, y>x) & (x<=0 => WP(y:=y+1, y>x))\n",
    "        = (x>0 => y+x>x)  &  (x <= 0  =>  y+1>x)\n",
    "        = x>0 => y>0  & x<=0 => y+1>x\n",
    "\n",
    "\n",
    "        WP(if x > 0 then y :=x  else y:= 0,  y > 0) \n",
    "        = (x>0 => WP(y:=x, {y >0})) & (x<=0 => WP(y:=0, y>0))\n",
    "        = (x > 0 => x > 0)  &  (x <= 0  =>  0 > 0)\n",
    "        = True & x > 0   \n",
    "        = x > 0 # (0> 0 is false,  and so !(x<=0) or false is !(x<=0) = x>0)\n",
    "        This WP ~x > 0~ shows that we can only use the first branch and discard the second branch (which always violate the postcondition).\n",
    "\n",
    "-   Instead of using `=>` (imply), which might be confusing to some,\n",
    "    we can use `!` (not) and `||` (or)\n",
    "\n",
    "    -   WP(if b then S1 else S2, Q) = (b=\\> WP(S1,Q)) & (!b =\\>\n",
    "        WP(S2, Q)) = !((b & !WP(S1,Q)) \\|\\| (!b & !WP(S2, Q)))\n"
   ]
  },
  {
   "cell_type": "markdown",
   "id": "644e3a13-1c50-47ab-93dd-126dd57798b6",
   "metadata": {},
   "source": [
    "\n",
    "### S is a **LOOP**\n",
    "\n",
    "-   *Important*: unlike other statements where we can compute WP\n",
    "    automatically, for loop, we (the user) need to supply a *loop\n",
    "    invariant* to obtain the WP of loop\n",
    "\n",
    "-   **Loop invariant** `I`: captures the meaning of the loop\n",
    "    (manually provided by you)\n",
    "\n",
    "    -   property that holds when the loop entered\n",
    "\n",
    "    -   is preserved after the loop body is executed (inductive loop\n",
    "        invariant)\n",
    "\n",
    "    -   Where is the loop invariant **I**?\n",
    "\n",
    "        -   loop entrance (note: does not mean the location AFTER\n",
    "            you enter the loop)\n",
    "\n",
    "        -   This transformation can help you visualize **I**:\n",
    "\n",
    "                while (b){\n",
    "                    //loop body\n",
    "                }\n",
    "\n",
    "        this loop is equivalent to\n",
    "\n",
    "            while (True){\n",
    "                [I]      // loop invariant I is right here\n",
    "                if (!b) break\n",
    "                //loop body\n",
    "            }\n",
    "\n",
    "            WP(while [I] b do S, Q) =  I & (I & b => WP(S,I) & (I & !b)  => Q)\n",
    "\n",
    "-   where `I` is a loop invariant\n",
    "\n",
    "-   the wp is a conjunction\n",
    "    `I & (I & b => WP(S,I) & (I & !b)  => Q)`, which consists of 3\n",
    "    conjuncts:\n",
    "\n",
    "    1.  `I` : the loop invariant (should hold when entering the\n",
    "        loop)\n",
    "    2.  `(I & b)  =>   I` : (entering the loop because `b` is true)\n",
    "        `I` is preserved after each loop body execution\n",
    "    3.  `(I & !b) =>  Q` (exiting the loop because `b` is false),\n",
    "        when exiting the loop, the post condition holds\n",
    "\n",
    "    -   Example\n",
    "\n",
    "            {N >= 0}   // precondition\n",
    "\n",
    "            i := 0 ;\n",
    "\n",
    "                while(i < N)\n",
    "                i := N;\n",
    "\n",
    "                {i = N} // post condition\n",
    "\n",
    "-   many possible loop invariants\n",
    "\n",
    "        - i <= N\n",
    "        - i>=0 \n",
    "        - N >= 0\n",
    "        - TRUE  (very weak and trivial)\n",
    "\n",
    "    -   but need to use a loop invariant that is sufficiently\n",
    "        strong, otherwise we cannot prove the program (so unless the\n",
    "        postcondition we want to prove is very weak (e.g., `TRUE`),\n",
    "        then unlikely we want to use `TRUE` as a loop invariant, even though TRUE is loop invariant)."
   ]
  },
  {
   "cell_type": "markdown",
   "id": "c5a2faf6-8463-442f-bf15-69fb4dc851ea",
   "metadata": {},
   "source": []
  },
  {
   "cell_type": "markdown",
   "id": "193902c9-dc6f-42ad-9823-9a215bb84ba5",
   "metadata": {},
   "source": [
    "\n",
    "### Example 1 (*sufficiently* strong invariant): \n",
    "\n",
    "attempt to use the loop invariant `i <= N` to prove the program\n",
    "\n",
    "    WP([i := 0; while[i<=N] i < N do i:= N], i = N) \n",
    "    = WP(i := 0; WP(while[i<=N] i < N do i:=N], i = N) \n",
    "    = \n",
    "    // Let's first compute WP(while[i<=N] i < N do i:=N, {i = N}). According to the WP rule for LOOP, we will have 3 conjuncts \n",
    "        1. i <= N\n",
    "\n",
    "        2. (i <= N & i < N) => WP(i:=N, {i<=N})\n",
    "            = i < N          =>  N <= N \n",
    "            = i < N          =>  True   \n",
    "            = True     // because !(i<N) | True  is True (anything or with True is True)\n",
    "\n",
    "        3. (i <= N & !(i<N)) => i = N\n",
    "            = i = N           => i = N\n",
    "            = True     // because !(i=N) | i = n  is True (a or !a is True)\n",
    "\n",
    "        =  i <= N & True & True\n",
    "        =  i <= N\n",
    "\n",
    "    //after obtaining the WP i<=N for the while loop, we continue with the statement i:=0\n",
    "    // WP([i := 0; while[i<=N] i < N do i:= N], i = N)  = WP(i := 0, i<=N)\n",
    "    WP(i := 0, i<=N)\n",
    "    = 0<=N  //we obtain this by applying the WP rule for assignment\n",
    "\n",
    "    //now we construct a \"verification condition\" (vc) to check that the given precondition implies the WP 0<=N\n",
    "    P => WP([i := 0; while[i<=N] i < N do i:= N], {i = N}) \n",
    "    = N>=0 =>  0<=N   // N>=0 is the given precondition and 0 <= N is the WP we obtain above for the program\n",
    "    = True\n",
    "    //the given precondition N>=0 implies 0<=N, and thus the the Hoare tripple is valid, i.e., the program is correct \n",
    "    //Thus using this loop invariant i<=N we can prove the validity of the Hoare tripple.\n",
    "    // The loop invariant i <= N is *sufficiently strong* to let us prove the program satisfy the specifications.\n"
   ]
  },
  {
   "cell_type": "markdown",
   "id": "372f7e8e-0f89-445a-b181-b9f415110ade",
   "metadata": {},
   "source": [
    "### Example 2 (*insufficiently* strong): \n",
    "\n",
    "attempt to use the loop invariant `N >= 0` to prove the program\n",
    "\n",
    "    WP(while[N >= 0] i < N do i:=N, {i = N})\n",
    "    =\n",
    "        1. N >= 0\n",
    "        2. (N >=0 & i < N) => WP(i := N, N >= 0) = \n",
    "            (N >=0 & i < N) => i >= 0   // we can't simplify much, so just leave as is\n",
    "\n",
    "        3. N >=0 & !(i<N) => i =N\n",
    "            (N >= 0 & i >= N) => i = N\n",
    "            i>= 0  => i = N  // we can't simplify much, so just leave as is\n",
    "\n",
    "        =  N >=0 & (N >=0 & i < N) => i >= 0 & (i>= 0  => i = N)\n",
    "\n",
    "    WP(i:=0; {N >=0 & (N >=0 & i < N) => i >= 0 & (i>= 0  => i = N)})\n",
    "        = (0 >= 0) & (0 >= 0 & 0 < N => 0 >= 0) & (0>=0 => 0 = N)  //apply WP for assignment and simplify\n",
    "        =  TRUE    &      TRUE                  & 0 = N\n",
    "        = 0 = N\n",
    "\n",
    "    // The vc is then\n",
    "        P => 0 = N  // the given precondition implies 0 = N\n",
    "        (N >= 0) => 0 = N   (Not simplified to TRUE, i.e., invalid Hoare tripple)\n",
    "        // Thus using this loop invariant is not sufficiently strong as we cannot use it prove the validity of the Hoare tripple.\n",
    "        // *Important*: not being able to prove simply means we cannot prove it using this loop invariant.  It *does not* mean that you disprove it or show that the Hoare triple is invalid.  (in fact, we know the Hoare tripple is valid if we used a different loop invariant, e.g., i <= N)\n"
   ]
  },
  {
   "cell_type": "markdown",
   "id": "1766896e-30d6-4571-b1e9-7940d8855315",
   "metadata": {
    "ein.tags": "worksheet-0",
    "slideshow": {
     "slide_type": "-"
    }
   },
   "source": [
    "### WP for While Statement\n",
    "\n",
    "Notice the weakest precondition for while statement\n",
    "`(I) & (I & B \\Rightarrow wp(S,I)) & (I & \\neg B \\Rightarrow Q)`\n",
    "relies on a user-supplied loop invariant `I`.\n",
    "Indeed, while we can automatically computes the wp's for other statements automatically, we need the user to provide us a loop invariant to compute the wp's for while loop. \n",
    "\n",
    "\n",
    "A loop invariant is a property that (i) holds upon the entrance of the loop and (ii) preserves after the execution of the loop body.\n",
    "In essense, the loop invariant captures the semantics of the loop and thus allows us to replace the iteration details of the loop with the invariant.\n",
    "Often, the loop invariant properties are expressed as logical formulas.\n",
    "\n",
    "In the below example \n",
    "```c\n",
    "i := 0;\n",
    "while (i < N) do\n",
    "  i := N;\n",
    "```\n",
    "`N \\ge 0` and `i \\le N` are valid loop invariants. Note, thus `N \\ge 0 & i \\le N` is also a loop invariant.  In contrast,  `i= 0` and `i = N` are not loop invariants.\n",
    "In general, there are many possible loop invariants, e.g., `\\text{True}, i \\le N + 1, \\dots` in this example.  \n",
    "\n",
    "\n"
   ]
  },
  {
   "cell_type": "markdown",
   "id": "99ccdfc9-aefa-46d8-a34a-4393b9b8953c",
   "metadata": {
    "ein.tags": "worksheet-0",
    "slideshow": {
     "slide_type": "-"
    }
   },
   "source": [
    "## Sufficiently Strong Loop Invariants\n",
    "\n",
    "Like postconditions, we generally want _strong_ loop invariants to represent the more precise semantics of the program. \n",
    "However, just like postconditions, determining the strongest (or even strong) loop invariants can be nontrivial, especially when we have to manually come up with them.\n",
    "Fortunately, in many cass, we do not need to have strong loop invariants, but just _sufficiently_ strong to prove program specifications.\n",
    "For example, if we want to prove a weak postcondition, then we only need sufficiently strong invariant to establish that proof.\n",
    "\n"
   ]
  },
  {
   "cell_type": "markdown",
   "id": "2972ae5d-0fb6-4496-9db0-a9bec568beb5",
   "metadata": {
    "ein.tags": "worksheet-0",
    "slideshow": {
     "slide_type": "-"
    }
   },
   "source": [
    "\n",
    "## Example\n",
    "\n",
    "We show that the _multiplication_ program below is correct with respect to the precondition `P = \\{A \\ge 0 & B \\ge 0 \\}` and `Q=\\{z = A*B\\}`.\n",
    "We will use the loop invariant `I = \\{A*B = z + x*y\\}` to demonstrate this.\n",
    "\n",
    "```C\n",
    "// P = {A >= 0 && B >= 0}\n",
    "x := A; \n",
    "y := B; \n",
    "z := 0; \n",
    "// L1\n",
    "while x > 0 do\n",
    "    if odd(x) then \n",
    "        z := z + y\n",
    "    y := 2 ∗ y; \n",
    "    x := x / 2;   //integer division\n",
    "    // L2\n",
    "\n",
    "// L3: Q = {z == A*B}\n",
    "```\n",
    "\n",
    "\n",
    "1. Initial (at L1, when we about to enter the loop): \n",
    "    - `(A \\ge 0 & B \\ge 0) & (x = A & y = B & z = 0) \\Rightarrow (A*B = x + y)`.  Checked!\n",
    "\n",
    "- Terminate (at L3, when the loop exits):\n",
    "    - `(A*B = z + x*y & x = 0) \\Rightarrow (A*B = z)`. Checked!\n",
    "    - Note, the loop exit is `x \\le 0`, however we know x cannot be negative so we strengthen it to `x \n",
    "= 0`\n",
    "\n",
    "- Loop (at L2, the loop inv is preseved at the end of the loop body): we show that `(I & x > 0) \\Rightarrow wp(\\text{loop_body}, I)`.  In this example, the loop body consists of 2 cases:\n",
    "   - Case 1: when x is even:\n",
    "       - `x > 0 & A*B = z + x *y \\Rightarrow ((A*B = z + x*y)_y^{2*y})_x^{x/2}` \\\n",
    "       = `x > 0 & A*B = z + x *y \\Rightarrow (A*B = z + (x/2)*2*y)` \\\n",
    "       = `x > 0 & A*B = z + x *y \\Rightarrow A*B = z + x*y`.  Checked\n",
    "\n",
    "   - Case 2: when x is odd, then due to intger division, we have `x = 2*u + 1`, e.g., if `x = 7`, then `u = 3`:\n",
    "       - `x > 0 & A*B = z + x *y \\Rightarrow (((A*B = z + x*y)_y^{2*y})_x^{x/2})_z^{z+y}` \\\n",
    "       = `x > 0 & A*B = z + x *y \\Rightarrow (A*B = (z+y) + (x/2)*2*y)` \\\n",
    "       = `x > 0 & A*B = z + x *y \\Rightarrow (A*B = (z+y) + ((2u + 1)/2)*2*y)` \\\n",
    "       = `x > 0 & A*B = z + x *y \\Rightarrow (A*B = (z+y) + (2u/2 + 1/2)*2*y)` \\\n",
    "       = `x > 0 & A*B = z + x *y \\Rightarrow (A*B = z + y + u * 2*y)` \\\n",
    "       = `x > 0 & A*B = z + x *y \\Rightarrow (A*B = z + y * (1 + u * 2))` \\\n",
    "       = `x > 0 & A*B = z + x *y \\Rightarrow (A*B = z + y * x)`.  Checked\n",
    "       \n",
    "We also note that this program terminates because (i) if `x \\le 0`, we skip the loop and (ii) otherwise, ie.., `x > 0`, we enter the loop but at each iteration we have `x / 2` and thus eventually this integer division will result in `x = 0` and we exit the loop.\n",
    "\n"
   ]
  },
  {
   "cell_type": "markdown",
   "id": "3e1acb2c-aa7b-4f37-80db-60c991fd82a7",
   "metadata": {
    "ein.tags": "worksheet-0",
    "slideshow": {
     "slide_type": "-"
    }
   },
   "source": [
    "## Example\n",
    "\n",
    "Given the below program with the precondition `P = \\{x \\le 9\\}` and the postcondition `Q = \\{x = 12\\}`\n",
    "```C\n",
    "    x := x + 1;\n",
    "    while x != 10 do\n",
    "       x := x + 1;\n",
    "    x := x + 2\n",
    "```\n",
    "\n",
    "1. Find an invariant `I` for the loop (that hopefully is sufficiently strong to prove `Q`)\n",
    "   - Guess `x \\le 10`\n",
    "\n",
    "- Find the *wp* of the loop\n",
    "   - wp(x := x + 1; while x != 10 do x := x + 1; x := x + 2, `x = 12`) \\\n",
    "    = wp(x := x + 1; while x != 10 do x := x + 1, `x = 10`) \\\n",
    "    = wp(x := x + 1, wp(while x != 10 do x := x + 1, `x = 10`) \\\n",
    "    = wp(x := x + 1, `(x\\le 10) & (x \\le 10 & x \\ne 10 \\Rightarrow wp(\\text{x := x + 1}, x \\le 10)) & (x \\le 10 & x = 10 \\Rightarrow x = 10)`) \\\n",
    "    = wp(x := x + 1, `x\\le 10 & \\text{True} & \\text{True}`\n",
    "    = `x \\le 9`\n",
    "\n",
    "- Prove the program is correct\n",
    "   - `P \\Rightarrow`  wp(x:= x + 1; while x != 10 do x := x + 1; x := x + 2, `x = 10`) \\\n",
    "   = `x \\le 9 \\Rightarrow x\\le 9` \\\n",
    "   = True\n",
    "- Argue the program terminates\n",
    "  - The postcondition states that `x \\le 10`.  If `x = 10`, then we skips the loop and terminates the program.  Otherwise (`x < 10`), `x` is incremented by 1 at each iteration and thus eventually we will get `x == 10`, exit the loop, and terminate.\n",
    "\n"
   ]
  },
  {
   "cell_type": "markdown",
   "id": "a041b4b4-f4b3-4142-9565-e85845841377",
   "metadata": {
    "autoscroll": false,
    "ein.hycell": false,
    "ein.tags": "worksheet-0",
    "slideshow": {
     "slide_type": "-"
    }
   },
   "source": [
    "## Example\n",
    "\n",
    "Given the below program with the precondition `P=\\{ N \\le 10 \\}`\n",
    "```c\n",
    "i := 0;\n",
    "while (i < N) do\n",
    "  i := N\n",
    "```\n",
    "\n",
    "1. Determine what this program does and write a post condition `Q` for it\n",
    "  - `Q = \\{ i = N \\}`\n",
    "  \n",
    "- Find an invariant `I` for the loop that is sufficiently strong to prove `Q`\n",
    "  - `i \\le N`.  Note: something like `N \\le 0` is not sufficient\n",
    "  \n",
    "- Prove that this program is correct with respect to `P` and `Q`\n",
    "    1. First, we find the wp of the program (we would use `I` for the loop) \\ \n",
    "     wp(i := 0; while i < 10 do i := N, `i \\le N`) \\\n",
    "       = wp(i := 0, wp(while i < 10 do i := N, `i \\le N`))\\\n",
    "       = wp(i := 0, `(i \\le N & i < 10 \\Rightarrow i \\le N) & (i \\le N & i \\ge N \\Rightarrow i = N)`)\\\n",
    "       = `(0 \\le N & 0 < 10 \\Rightarrow 0 \\le N) & (0 \\le N & 0 \\ge N \\Rightarrow 0 = N)`\n",
    "\n",
    "    - Then, we show that `P \\Rightarrow wp`\\\n",
    "    `N \\le 10 \\Rightarrow (0 \\le N & 0 < 10 \\Rightarrow 0 \\le N) & (0 \\le N & 0 \\ge N \\Rightarrow 0 = N) = \\text{True}` \\\n",
    "    - In fact, note that the wp of the loop can be simplified to just True and thus it does not matter what the precondition or the assignment statement before the loop is.\n",
    "\n",
    "- Argue that this program terminates"
   ]
  },
  {
   "cell_type": "code",
   "execution_count": null,
   "id": "711fd844-ec55-46d7-934c-fc5ffaa85d9c",
   "metadata": {
    "autoscroll": false,
    "ein.hycell": false,
    "ein.tags": "worksheet-0",
    "slideshow": {
     "slide_type": "-"
    }
   },
   "outputs": [],
   "source": []
  },
  {
   "cell_type": "code",
   "execution_count": null,
   "id": "b7c0cd66-252f-47c4-acac-d850a1b1aab5",
   "metadata": {},
   "outputs": [],
   "source": [
    "\n",
    "\n",
    "# unused\n",
    "\n",
    "- {`x = y`} x := x + 3 {`x = y+3`}\n",
    "- {x `>` -1} x:=2*x + 3 {`x > 1`}\n",
    "- {`x = a`} if x `<` 0 then x := -x {`x = |a|`}"
   ]
  },
  {
   "cell_type": "markdown",
   "id": "fc4a9af1-6a8f-43d5-bb1a-af9abd105891",
   "metadata": {},
   "source": [
    "## Strongest Postconditions\n",
    "\n",
    "Consider the Hoare tripples below:\n",
    "1. {`x = 5`} x:=x*2 {`true`}\n",
    "1. {`x = 5`} x:=x*2 {`x > 0`}\n",
    "1. {`x = 5`} x:=x*2 {`x = 10 \\vee = 5`}\n",
    "1. {`x = 5`} x:=x*2 {`x = 10`}\n",
    "\n",
    "All of these tripples are valid, but the last one with the postcondition  `x =` 10 is the *strongest*, i.e., most precise.  In general, we want _strong postconditions_ for our specifications.  However, there could be cases when we do not need the strongest postconditions, e.g., if we only want to show that x remains positive, then the postcondition `x > 0` would suffice.\n",
    "\n",
    "### Definition\n",
    "- In {P} S {Q}, Q is the strongest postcondition if `\\forall Q'. \\{P\\} S \\{Q'\\} & Q \\Rightarrow Q'`. This says that Q is the strongest postcondition if (i) it is a postcondition in the tripple {P} S {Q} and it is stronger than any other postconditions Q' of the tripple {P} S {Q'}.\n",
    "\n",
    "For the example above, x `=` 10 is the _strongest_ postcondition because\n",
    "  - `x = 10 \\Rightarrow true`\n",
    "  - `x = 10 \\Rightarrow x>0`\n",
    "  - `x = 10 \\Rightarrow (x= 10 \\vee x= 5)`\n",
    "  - `x = 10 \\Rightarrow x= 10`.\n",
    "  - `x = 10` is also stronger than any other postconditions of this example (e.g., `x > 1,  x  = 10 \\vee x > 3, \\dots`). \n",
    "\n",
    "Note that if **False** is a postcondition in the tripple {P} S {Q}, then it would be the strongest possible postcondition because False implies anything.\n"
   ]
  },
  {
   "cell_type": "markdown",
   "id": "5de37b80-a34c-4750-81fb-9b58c6aaca8c",
   "metadata": {},
   "source": [
    "## Weakest Preconditions\n",
    "\n",
    "Consider the Hoare tripples below:\n",
    "1. {`x = 5 & y = 10`} z := x/y {`z<1`}\n",
    "- {`x<y & y>0`} z := x/y {`z<1`}\n",
    "- {`y\\neq 0 & x/y <1` } z := x/y {`z<1`}\n",
    "\n",
    "All of these triples are true, but the last one `y\\neq 0 & x/y <1` is the most general or _weakest_ precondition.  In general, we want  _weak preconditions_ for our specifications because it allows us to run the programs with fewer assumptions or restrictions.\n",
    "\n",
    "### Definition\n",
    "- In {P} S {Q}, P is the weakest precondition if \n",
    "`\\forall P'. \\{P'\\} S \\{Q \\} & P' \\Rightarrow P`.\n",
    "\n",
    "  "
   ]
  }
 ],
 "metadata": {
  "celltoolbar": "Slideshow",
  "kernelspec": {
   "display_name": "Python 3 (ipykernel)",
   "language": "python",
   "name": "python3"
  },
  "language_info": {
   "codemirror_mode": {
    "name": "ipython",
    "version": 3
   },
   "file_extension": ".py",
   "mimetype": "text/x-python",
   "name": "python",
   "nbconvert_exporter": "python",
   "pygments_lexer": "ipython3",
   "version": "3.9.13"
  },
  "name": "hoare-logic.ipynb",
  "vscode": {
   "interpreter": {
    "hash": "9978a0b2ce432d2f37fe6d8a9c2166ba494d5e9d3cfba1d03e8c740cc2ab3f44"
   }
  }
 },
 "nbformat": 4,
 "nbformat_minor": 2
}
