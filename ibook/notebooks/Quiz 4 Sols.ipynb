{
 "cells": [
  {
   "cell_type": "markdown",
   "metadata": {},
   "source": [
    "## Question 1\n",
    "\n",
    "To show the statement (S1; S2); S3  is equivalent to the statement S1; (S2; S3), we show that these two statements start from the same state, E1, and end in the same state E2.  \n",
    "\n",
    "1. E1 |- (S1; S2); S3 => E2  (this depends on 2 and 3)\n",
    "- E1 |- (S1; S2) => E3 (this depends on 4 and 5)\n",
    "- E3 |- S3 => E2 (this does not depend on anything)\n",
    "- E1 |- S1 => E4  (this does not depend on anything)\n",
    "- E4 |- S2 => E3  (this does not depend on anything)\n",
    "\n",
    "\n",
    "1. E1 |- S1; (S2; S3) => E2  (this depends on 2 and 3)\n",
    "- E1 |- S1 => E3 (this does not depend on anything)\n",
    "- E3 |- (S2; S3) => E2 (this depends on 4 and 5)\n",
    "- E3 |- S2 => E4 (this does not depend on anything)\n",
    "- E4 |- S3 => E2 (this does not depend on anything)\n",
    "\n",
    "\n",
    "\n",
    "\n",
    "\n"
   ]
  },
  {
   "cell_type": "markdown",
   "metadata": {},
   "source": [
    "## Question 2\n",
    "### Define `repeat` using statements in the While language\n",
    "\n",
    "A:  `repeat S until b`  can be defined using `S; while !b do S`\n",
    "  \n",
    " \n",
    "### Define `while b do S` using `repeat S until b` and other statements in the While language (except `while` itself)\n",
    "\n",
    "A:  `while b do S` can be defined using `if !b then skip else repeat S until !b`\n",
    "  \n",
    "### Define an evaluation rule for `repeat`\n",
    "\n",
    "A: a couple of acceptable solutions\n",
    "\n",
    "1. E1 |- `repeat S until b` => E2 (this depends on 2)\n",
    "- E1 |- S; `if b then skip else repeat S until b` => E2  (you can go further at this point, but you don't need to to because this E-seq rule is already given in the lecture)\n",
    "\n",
    "Also acceptable answer:\n",
    "Since we have defined `repeat` using while, i.e.,  `S; while !b do S`, we can use the existing evaluation rules for sequential and while\n",
    "\n",
    "1. E1 |- `repeat S until b` => E2 (this depends on 2)\n",
    "- E1 |- `S; while !b do S` => E2 (you can go further at this point, but you don't need to to because this E-seq rule is already given in the lecture)"
   ]
  },
  {
   "cell_type": "markdown",
   "metadata": {},
   "source": [
    "## Question 3\n",
    "### Define the Axiomatic semantics, i.e., the wp, for `repeat S until b`\n",
    "\n",
    "A: Since we have defined repeat using while, i.e., `repeat S until b`  =   `S; while !b do S`, we can just obtain the wp for sequential and while\n",
    "\n",
    "1. wp(repeat S until b, Q) $\\equiv$ wp(S; while !b do S, Q)\n",
    "-     $\\equiv$    wp(S; $(I) \\wedge (I \\wedge \\neg b \\Rightarrow \\text{wp}(S,I)) ~\\wedge~ (I \\wedge b \\Rightarrow Q)$)\n",
    "\n",
    "Note: The above solution only works when we defining `repeat` using `while` as shown. We cannot just use loop invariant defined for `while` directly on `repeat` because, as we have already seen in previous parts, `repeat` and `while` are not equivalent."
   ]
  },
  {
   "cell_type": "markdown",
   "metadata": {},
   "source": [
    "## Question 4\n",
    "### Show program correctness\n",
    "1. The post condition is $z = A^B$\n",
    "\n",
    "2. Show program correctness using the loop invariant $A^B = x^y * z$ \n",
    "    - Initial case:  $(A \\ge 0 \\wedge B \\ge 0 \\wedge x \\equiv A \\wedge y \\equiv B \\wedge, z \\equiv 1)  \\Rightarrow  A^B \\equiv x^y * z$.  This holds (replace $z$ with 1).\n",
    "    - Loop exit case: $A^B \\equiv x^y * z \\wedge y \\equiv 0 \\Rightarrow z = A^B$. This holds (replace $y$ with 0)\n",
    "    - Loop iteration case:\n",
    "      - Case 1, when y is odd: \n",
    "          - $(A^B \\equiv x^y * z \\wedge y != 0 \\wedge odd(y)) \\Rightarrow  ((A^B \\equiv x^y * z)_z^{x*z})_y^{y-1}$\n",
    "          - $(A^B \\equiv x^y * z \\wedge y != 0 \\wedge odd(y)) \\Rightarrow  (A^B \\equiv x^y * x*z)_y^{y-1}$\n",
    "          - $(A^B \\equiv x^y * z \\wedge y != 0 \\wedge odd(y)) \\Rightarrow  (A^B \\equiv x^{y-1} * x*z)$\n",
    "          - $(A^B \\equiv x^y * z \\wedge y != 0 \\wedge odd(y)) \\Rightarrow  (A^B \\equiv x^y * z)$.  This holds ($x^{y-1} * x \\equiv x^y$)\n",
    "\n",
    "      -  Case 2, when y is even:\n",
    "          - $(A^B \\equiv x^y * z \\wedge y != 0 \\wedge even(y)) \\Rightarrow  ((A^B \\equiv x^y * z)_y^{y/2})_x^{x*x}$\n",
    "          - $(A^B \\equiv x^y * z \\wedge y != 0 \\wedge even(y)) \\Rightarrow  (A^B \\equiv x^{y/2} * z)_x^{x*x}$\n",
    "          - $(A^B \\equiv x^y * z \\wedge y != 0 \\wedge even(y)) \\Rightarrow  (A^B \\equiv (x*x)^{y/2} * z)$\n",
    "          - $(A^B \\equiv x^y * z \\wedge y != 0 \\wedge odd(y)) \\Rightarrow  (A^B \\equiv x^y * z)$.  This holds ($(x*x)^{y/2} = (x^2)^{y/2} = x^y$).\n",
    "- Termination Argument: when entering the loop, we know $y \\ge 0$, i.e., non-neg.  Moreover, the value of $y$ always decreases during the loop (either by 1 or int division by half).  Thus eventually $y$ will reach 0 and the loop exits."
   ]
  },
  {
   "cell_type": "code",
   "execution_count": null,
   "metadata": {},
   "outputs": [],
   "source": []
  }
 ],
 "metadata": {
  "kernelspec": {
   "display_name": "Python 3.9.7 ('base')",
   "language": "python",
   "name": "python3"
  },
  "language_info": {
   "codemirror_mode": {
    "name": "ipython",
    "version": 3
   },
   "file_extension": ".py",
   "mimetype": "text/x-python",
   "name": "python",
   "nbconvert_exporter": "python",
   "pygments_lexer": "ipython3",
   "version": "3.9.7"
  },
  "vscode": {
   "interpreter": {
    "hash": "9978a0b2ce432d2f37fe6d8a9c2166ba494d5e9d3cfba1d03e8c740cc2ab3f44"
   }
  }
 },
 "nbformat": 4,
 "nbformat_minor": 2
}
