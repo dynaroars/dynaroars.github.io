{
 "cells": [
  {
   "cell_type": "markdown",
   "metadata": {},
   "source": [
    "# Formal Languages\n",
    "\n",
    "- *Definition*: A language over $\\Sigma$ is a set of strings of characters drawn from $\\Sigma$\n",
    "- Examples\n",
    "    - English:\n",
    "        - $\\Sigma$ = English characters\n",
    "        - Language = English sentences\n",
    "    - Java (or C):\n",
    "        - $\\Sigma$ = ASCII\n",
    "        - Language = Java programs\n",
    "\n",
    "\n",
    "## Mapping from syntax to semantics\n",
    "- *Meaning* function $L$ maps syntax to semantics\n",
    "    - L(reg exp) = set of strings\n",
    "- Regular Expressions\n",
    "\n",
    "|     |   | |\n",
    "|:---- | ---| :-----------|\n",
    "| $L(\\epsilon)$ | = | $\\{\"\"\\}$\n",
    "| $L('c')$  | = | $\\{ \"c\" \\}$| \n",
    "| $L(A + B)$ | = | $L(A) \\cup L(B)$|\n",
    "| $L(AB)$ | = | $\\{ab \\mid a\\in L(A) \\cup b \\in L(B)\\}$|\n",
    "| $L(A^*)$ | = | $\\bigcup_{i\\ge 0} L(A^i)$\n",
    "\n",
    "- Why use a meaning function?\n",
    "    1. distinguish between syntax and semantics\n",
    "    1. Allow consider syntax or notation as a separation issue\n",
    "        - Arabic system:  0,1,42,107\n",
    "        - Roman :  I, IV, X, XL\n",
    "    1. Because expressions and meanings are not 1-1\n",
    "        - Most nontrivial languages are many to one\n",
    "            - $0^*, 0 + 0^*, \\epsilon + 00^*, \\epsilon + 0 + 0^*, \\dots$ are all equiv\n",
    "        - No languages are one to many (not a valid function)"
   ]
  },
  {
   "cell_type": "code",
   "execution_count": null,
   "metadata": {},
   "outputs": [],
   "source": []
  }
 ],
 "metadata": {
  "kernelspec": {
   "display_name": "Python 3",
   "language": "python",
   "name": "python3"
  },
  "language_info": {
   "codemirror_mode": {
    "name": "ipython",
    "version": 3
   },
   "file_extension": ".py",
   "mimetype": "text/x-python",
   "name": "python",
   "nbconvert_exporter": "python",
   "pygments_lexer": "ipython3",
   "version": "3.7.3"
  }
 },
 "nbformat": 4,
 "nbformat_minor": 2
}
