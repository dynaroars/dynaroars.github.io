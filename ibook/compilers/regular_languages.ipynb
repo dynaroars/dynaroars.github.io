{
 "cells": [
  {
   "cell_type": "markdown",
   "metadata": {},
   "source": [
    "# Regular Languages\n",
    "\n",
    "- Use *regular expressions* (RE) to define (regular) languages\n",
    "- Each regular expression (RE) denotes a set (or a language) of strings\n",
    "- Five constructs\n",
    "    - Base cases:\n",
    "        - Single char:  $'c'  = \\{ \"c\" \\}$\n",
    "        - Epsilon: $\\epsilon = \\{\"\" \\}$\n",
    "    - Compound (created by operations over RE's)\n",
    "        - Union: $A + B = \\{a \\mid a\\in A\\} \\cup \\{b \\mid b \\in B\\}$\n",
    "        - Concatenation: $AB = \\{ab \\mid a\\in A ~\\cap~ b\\in B\\}$\n",
    "        - Iteration (Klenne Star): $A^* = \\bigcup_{i \\ge 0} A^i$.  Note $A^i = A \\dots A$ ($i$ times),  $A^0 = \\epsilon$"
   ]
  },
  {
   "cell_type": "markdown",
   "metadata": {},
   "source": [
    "## Definition\n",
    "\n",
    "Grammar of *regular expressions* over $\\Sigma$:\n",
    "\n",
    "|         | | \n",
    "| ------- | :--------------------|\n",
    "|  $R = $ | $\\epsilon$           |\n",
    "|  $\\mid$ | $e$ |   $e \\in \\Sigma$ |\n",
    "|  $\\mid$ |   $R + R$ |\n",
    "|  $\\mid$ |   $RR$ |\n",
    "|  $\\mid$ |   $R^*$ |\n"
   ]
  },
  {
   "cell_type": "markdown",
   "metadata": {},
   "source": [
    "## Examples\n",
    "\n",
    "### $\\Sigma = \\{0,1\\}$\n",
    "\n",
    "1. $1^* = \\bigcup_{i \\ge 0} 1^i = \"\" + 1 + 11 + 111 + \\dots$ = all strings of 1's\n",
    "1. $(1 + 0)1 = \\{ab \\mid a \\in 1+0 ~\\cap~ b \\in 1\\} = \\{11, 01 \\}$\n",
    "1. $0^* + 1^* = \\{0^i | i \\ge 0\\} \\cup \\{1^i | i \\ge 0\\}$\n",
    "1. $(0+1)^* = \\bigcup{i \\ge 0}(0 + 1)^i = \\{\"\" , (0+1) , (0+1)(0+1), \\dots \\}$ = all strings of 0's and 1's = $\\Sigma$\n",
    "\n",
    "Quiz: \n",
    "1. Langs equiv to $(0+1)^*1(0+1)^*$\n",
    "    - $(1+0)^*1(1+0)^*$\n",
    "    - $(0+1)^* (01+11+1) (0+1)^*$"
   ]
  },
  {
   "cell_type": "code",
   "execution_count": null,
   "metadata": {},
   "outputs": [],
   "source": []
  }
 ],
 "metadata": {
  "kernelspec": {
   "display_name": "Python 3",
   "language": "python",
   "name": "python3"
  },
  "language_info": {
   "codemirror_mode": {
    "name": "ipython",
    "version": 3
   },
   "file_extension": ".py",
   "mimetype": "text/x-python",
   "name": "python",
   "nbconvert_exporter": "python",
   "pygments_lexer": "ipython3",
   "version": "3.7.3"
  }
 },
 "nbformat": 4,
 "nbformat_minor": 2
}
