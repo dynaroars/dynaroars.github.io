{
 "cells": [
  {
   "cell_type": "markdown",
   "metadata": {
    "ein.tags": "worksheet-0",
    "slideshow": {
     "slide_type": "-"
    }
   },
   "source": [
    "# Abstract Interpretation\n",
    "\n",
    "To prove program correctness using *axiomatic semantics*, i.e., Hoare logic, we need to provide *loop invariants*, which as we have seen, can be a difficult and error-prone process.\n",
    "Thus, axiomatic semantics, while extremely powerful and used in many verification tools, e.g., Microsoft Dafny, is not an automatic, push-button approach.\n",
    "In addition, axiomatic semantic approach relies on checking validity of verification conditions.\n",
    "For complex programs, this checking process can be very expensive and in many cases not feasible.\n",
    "\n",
    "In this lecture, we will look at *abstract interpretation*, a verification approach that attempts to address the limiations of requiring loop invariants and expensive formula checkings.\n"
   ]
  },
  {
   "cell_type": "code",
   "execution_count": null,
   "metadata": {
    "autoscroll": false,
    "ein.hycell": false,
    "ein.tags": "worksheet-0",
    "slideshow": {
     "slide_type": "-"
    }
   },
   "outputs": [],
   "source": []
  },
  {
   "cell_type": "markdown",
   "metadata": {
    "ein.tags": "worksheet-0",
    "slideshow": {
     "slide_type": "-"
    }
   },
   "source": [
    "## Domain Example:  {Zero, Odd, Even} over Natural numbers\n",
    "\n",
    "\n",
    "- Maps from concrete natural numbers to either {0, odd, even} \n",
    "- Examples:  5 -> odd  , 4 ->  even ,  0 -> 0"
   ]
  },
  {
   "cell_type": "code",
   "execution_count": 4,
   "metadata": {
    "autoscroll": false,
    "ein.hycell": false,
    "ein.tags": "worksheet-0",
    "slideshow": {
     "slide_type": "-"
    }
   },
   "outputs": [],
   "source": [
    "def mult(A,B):\n",
    "    # P = {A >= 0 and B >= 0}\n",
    "    x = A\n",
    "    y = B\n",
    "    z = 0\n",
    "    # L1\n",
    "    while x > 0:\n",
    "        if x % 2 == 1:\n",
    "            z = z + y \n",
    "        x = x // 2\n",
    "        y = y * 2;\n",
    "        # L2\n",
    "\n",
    "    # L3\n",
    "    return z\n"
   ]
  },
  {
   "cell_type": "markdown",
   "metadata": {
    "ein.tags": "worksheet-0",
    "slideshow": {
     "slide_type": "-"
    }
   },
   "source": [
    "- Consider the `mult` example above that multiplies two natural numbers $A, B$.  Our goal is to find, at the end of the program, at location `L3`, the values of $x, y, z$ using the abstract domains **{Zero, Odd, Even}** over natural numbers.\n",
    "\n",
    "\n",
    "- Case:  `A = odd, B = odd`\n",
    "\n",
    "|      |loc | x | y | z |\n",
    "|:---  |:--- |:---:|:---:|:---:|\n",
    "| Init                   | L1 | odd     | odd  | odd  |\n",
    "|Iter 1||||\n",
    "| - entrance |L2 | odd     | odd  | odd  |\n",
    "| - body: case 1, x is odd  | L3 | $\\top$  | even | odd  |\n",
    "| - body: case 2, x is even (not possible)|L3| $\\bot$| $\\bot$ | $\\bot$|\n",
    "| - body: union of cases | L3 | $\\top$ | even | odd|\n",
    "| if loop exits| L4| 0 | even | odd |\n",
    "|Iter 2||||\n",
    "| - entrance |L2 | $\\top$     | even  | odd  |\n",
    "| - body: case 1, x is odd  | L3 | $\\top$  | even | odd  |\n",
    "| - body: case 2: x is even | L3| odd/even | even | odd |\n",
    "| - union of cases | L3 | $\\top$ | even | odd|\n",
    "| if loop loop exits| L4| 0 | even | odd |\n",
    "|Iter 3: entrance same as iter 2: fixed point||||\n",
    "| - entrance |L2 | $\\top$     | even  | odd  |\n",
    "  Final results |||\n",
    "| union of loop exits | L4 | 0 | even | odd\n",
    "\n",
    "\n",
    "    "
   ]
  },
  {
   "cell_type": "markdown",
   "metadata": {
    "ein.tags": "worksheet-0",
    "slideshow": {
     "slide_type": "-"
    }
   },
   "source": [
    "Abstract transformers\n",
    "\n",
    "| $>$|    |    |    | \n",
    "|:--:|:--:|:--:|:---:\n",
    "|    | 0  | odd| even\n",
    "|0   | f  | f  | f   \n",
    "|odd | t  | t/f| t/f \n",
    "|even| t  | t/f| t/f \n",
    "\n",
    "\n",
    "| $+$|    |    |    |\n",
    "|:--:|:--:|:--:|:---:\n",
    "|    | 0  | odd | even\n",
    "|0   | 0  | odd | even\n",
    "|odd | 0  | even| odd \n",
    "|even| 0  | odd | even\n",
    "\n"
   ]
  },
  {
   "cell_type": "markdown",
   "metadata": {},
   "source": [
    "## Domain Example: Interval over Integers\n",
    "- Concrete Domain:  Z,   e.g.,  x = 1\n",
    "- Abstract Domain: [Z, Z], e.g.,  x = [1,1]\n",
    "\n",
    "### Functions\n",
    "- Abstract function $\\alpha$: convert a set of concrete values to an abstract value\n",
    "    -  E.g., $\\alpha(10) = [10, 10], \\alpha(\\{-1,3, 0\\}) = [-1, 3]$\n",
    "\n",
    "\n",
    "- Concreterize function $\\gamma$:  convert an abstract value to a set of concrete values\n",
    "  - E.g.,  $\\gamma([1,1]) = 1, \\gamma([-1,3]) = \\$-1,0,1,2,3\\}$\n",
    "  \n",
    "\n",
    "- Transfer functions\n",
    "    - Arithmetic operations\n",
    "        - $+: [a1, a2] + [b1, b2]= [a1+b1, a2+b2]$\n",
    "    - Union: \n",
    "        - $\\cup: [a1, a2] \\cup [b1, b2] = [min(a1,b1), max(a2,b2)]$\n",
    "    - Intersection:\n",
    "        - $\\cap: [a1, a2] \\cap [b1, b2] = [max(a1,b2), max(a2,b2)]$\n",
    "    \n",
    "\n",
    "- Another example\n",
    "\n",
    "```C\n",
    "x = 5;\n",
    "// x = [5,5]\n",
    "y = x - 1\n",
    "// x = [5,5], y = [4,4]\n",
    "```\n",
    "\n",
    "```C\n",
    "//x = [-10, 10]\n",
    "y = x - 1\n",
    "// y = ??\n",
    "```\n",
    "\n",
    "- Example\n",
    "\n",
    "```C\n",
    "\n",
    "//L1\n",
    "if (x <= 4) then\n",
    "    //L2:  \n",
    "    x = -10\n",
    "    //L3    \n",
    "else\n",
    "    //L4\n",
    "    x = 100\n",
    "    //L5\n",
    "//L6\n",
    "```\n",
    "\n",
    "\n",
    "\n",
    "|     | x   |  Reason             |\n",
    "|:---:|:---:|:-------------------|\n",
    "|L1   |[0,7]| assume              |   \n",
    "|L2   |[0,4]| [0,7] $\\cap$ [-$\\inf$, 4] |\n",
    "|L3   |[-10,10   ]| [0,4] $\\cup$ [-10, 10]                    |\n",
    "|L4   | [5,7]    |  [0,7] $\\cap$ [5,$\\inf$]                    |\n",
    "|L5   |  |   |             |\n",
    "|L6   |     ||"
   ]
  },
  {
   "cell_type": "markdown",
   "metadata": {
    "ein.tags": "worksheet-0",
    "slideshow": {
     "slide_type": "-"
    }
   },
   "source": [
    "Resources\n",
    "- http://www2.informatik.uni-freiburg.de/~heizmann/ProgramVerification/slides/20111025-Tue.pdf\n"
   ]
  }
 ],
 "metadata": {
  "kernelspec": {
   "display_name": "Python 3",
   "language": "python",
   "name": "python3"
  },
  "language_info": {
   "codemirror_mode": {
    "name": "ipython",
    "version": 3
   },
   "file_extension": ".py",
   "mimetype": "text/x-python",
   "name": "python",
   "nbconvert_exporter": "python",
   "pygments_lexer": "ipython3",
   "version": "3.7.3"
  },
  "name": "abstract_interpretation.ipynb"
 },
 "nbformat": 4,
 "nbformat_minor": 2
}
