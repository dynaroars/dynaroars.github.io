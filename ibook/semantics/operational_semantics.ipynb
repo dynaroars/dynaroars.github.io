{
 "cells": [
  {
   "cell_type": "markdown",
   "metadata": {
    "ein.tags": "worksheet-0",
    "slideshow": {
     "slide_type": "-"
    }
   },
   "source": [
    "# Big- Step Operational Semantics\n",
    "- Shows the effect of *each seatement* on the program *state*\n",
    "- Has *evaluation* rule for each statement\n",
    "- Depends on the a state $S: \\text{Var} \\mapsto {Value}$\n",
    "\n",
    "## Example\n",
    "```\n",
    "{}\n",
    "x := 6;\n",
    "{x -> 6}\n",
    "y := 7;\n",
    "{x -> 6, y -> 7}\n",
    "```\n",
    "\n"
   ]
  },
  {
   "cell_type": "markdown",
   "metadata": {
    "ein.tags": "worksheet-0",
    "slideshow": {
     "slide_type": "subslide"
    }
   },
   "source": [
    "\n",
    "| Statement type | E-Rule | Comment \n",
    "|----------------|:------:|---------|\n",
    "|E-Assign| $$\\frac{E \\vdash a \\Downarrow n}{E \\vdash x := a \\Downarrow E\\{x\\mapsto n\\}}$$ |  |\n",
    "|E-Skip| $$\\frac{E\\vdash S1 \\Downarrow E'\\qquad E' \\vdash S2 \\Downarrow E''}{E \\vdash \\text{skip} \\Downarrow E}$$ |  |\n",
    "|E-Seq|$$\\frac{}{E \\vdash S1;S2 \\Downarrow E''}$$|\n",
    "|E-IfTrue|$$\\frac{E\\vdash b \\Downarrow \\textsf{True} \\qquad E\\vdash S1 \\Downarrow E'}{E \\vdash \\text{if}~b~\\text{then}~S1~\\text{else}~S2 \\Downarrow E'}$$|\n",
    "|E-IfFalse|$$\\frac{E\\vdash b \\Downarrow \\textsf{False} \\qquad E\\vdash S2 \\Downarrow E''}{E \\vdash \\text{if}~b~\\text{then}~S1~\\text{else}~S2 \\Downarrow E''}$$|\n",
    "|E-WhileTrue|$$\\frac{E \\vdash b \\Downarrow \\text{True} \\qquad E\\vdash S;  \\text{while}~b~\\text{do}~S \\Downarrow E'}{E \\vdash \\text{while}~b~\\text{do}~S \\Downarrow E'}$$||\n",
    "|E-WhileFalse|$$\\frac{E\\vdash b \\Downarrow \\text{False}}{E \\vdash \\text{while}~b~\\text{do}~S \\Downarrow E}$$||\n",
    "\n",
    "\n"
   ]
  }
 ],
 "metadata": {
  "kernelspec": {
   "argv": [
    "/Library/Developer/CommandLineTools/usr/bin/python3",
    "-m",
    "ipykernel_launcher",
    "-f",
    "{connection_file}"
   ],
   "display_name": "Python 3",
   "env": null,
   "interrupt_mode": "signal",
   "language": "python",
   "metadata": null,
   "name": "python3"
  },
  "language_info": {
   "codemirror_mode": {
    "name": "ipython",
    "version": 3
   },
   "file_extension": ".py",
   "mimetype": "text/x-python",
   "name": "python",
   "nbconvert_exporter": "python",
   "pygments_lexer": "ipython3",
   "version": "3.7.3"
  },
  "name": "operational_semantics.ipynb"
 },
 "nbformat": 4,
 "nbformat_minor": 2
}
