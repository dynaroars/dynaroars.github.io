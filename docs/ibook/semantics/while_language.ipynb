{
 "cells": [
  {
   "cell_type": "markdown",
   "metadata": {},
   "source": [
    "# The While language"
   ]
  },
  {
   "cell_type": "markdown",
   "metadata": {},
   "source": [
    "## The syntax, i.e., grammar, of While\n",
    "\n",
    "### A context-free grammar of While \n",
    "\n",
    "$s \\in Stmts$ ::= skip |\n",
    "      x := a |\n",
    "      if b then $s_1$ else $s_2$ |\n",
    "      while b do s end |\n",
    "      s1; s2\n",
    "      \n",
    "$b \\in BExp$ :: = t | f |\n",
    "       $a_1 \\equiv a_2$ |\n",
    "       $a_1 > a_2$ | \n",
    "       $\\neg b$ |\n",
    "       $b_1 \\wedge b_2$ |\n",
    "       $b_1 \\vee b_2$\n",
    "       \n",
    "$a \\in AExp$ := \n",
    "     x | z | \n",
    "     $a_1 + a_2$ |\n",
    "     $a_1 - a_2$ |\n",
    "     $a_1 * a_2$ \n",
    "     \n",
    "     \n",
    "$z \\in Z$ := 0 | 1 | -1 | $\\dots$ |\n",
    "\n",
    "     \n",
    "<!-- Category\n",
    "Numbers\n",
    "Truth values\n",
    "Variables\n",
    "Arithmetic expressions Boolean expressions Commands (statements)\n",
    "Domain Meta variable\n",
    "Z = {0,1,−1,...} z B={T,F} t Var={x,y,...} x AExp a BExp b Cmd c\n",
    "     \n",
    "      -->\n",
    "       "
   ]
  },
  {
   "cell_type": "markdown",
   "metadata": {},
   "source": [
    "### Example\n",
    "```\n",
    "x := 6;\n",
    "y := 7;\n",
    "z := 0;\n",
    "while x > 0 do\n",
    "    x := x - 1;\n",
    "    v := y;\n",
    "    while v > 0 do\n",
    "        v := v - 1; \n",
    "        z := z + 1 \n",
    "    end\n",
    "end\n",
    "```"
   ]
  },
  {
   "cell_type": "code",
   "execution_count": null,
   "metadata": {},
   "outputs": [],
   "source": []
  }
 ],
 "metadata": {
  "kernelspec": {
   "display_name": "Python 3",
   "language": "python",
   "name": "python3"
  },
  "language_info": {
   "codemirror_mode": {
    "name": "ipython",
    "version": 3
   },
   "file_extension": ".py",
   "mimetype": "text/x-python",
   "name": "python",
   "nbconvert_exporter": "python",
   "pygments_lexer": "ipython3",
   "version": "3.7.3"
  }
 },
 "nbformat": 4,
 "nbformat_minor": 2
}
